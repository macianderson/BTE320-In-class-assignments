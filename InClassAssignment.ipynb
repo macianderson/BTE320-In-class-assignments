{
  "nbformat": 4,
  "nbformat_minor": 0,
  "metadata": {
    "colab": {
      "provenance": [],
      "authorship_tag": "ABX9TyOigYKGsc5Ee3fXDZpoSPAf",
      "include_colab_link": true
    },
    "kernelspec": {
      "name": "python3",
      "display_name": "Python 3"
    },
    "language_info": {
      "name": "python"
    }
  },
  "cells": [
    {
      "cell_type": "markdown",
      "metadata": {
        "id": "view-in-github",
        "colab_type": "text"
      },
      "source": [
        "<a href=\"https://colab.research.google.com/github/macianderson/BTE320-In-class-assignments/blob/main/InClassAssignment.ipynb\" target=\"_parent\"><img src=\"https://colab.research.google.com/assets/colab-badge.svg\" alt=\"Open In Colab\"/></a>"
      ]
    },
    {
      "cell_type": "code",
      "execution_count": null,
      "metadata": {
        "colab": {
          "base_uri": "https://localhost:8080/"
        },
        "id": "23vIjjChkH8C",
        "outputId": "e89f4b54-14c2-4e78-8c98-de8ac355db68"
      },
      "outputs": [
        {
          "output_type": "stream",
          "name": "stdout",
          "text": [
            "244.92000000000002\n"
          ]
        }
      ],
      "source": [
        "pi = 3.14\n",
        "h = 10\n",
        "r = 3\n",
        "area = 2 * pi * r * h + 2 * pi * r ** 2\n",
        "print(area)"
      ]
    },
    {
      "cell_type": "code",
      "source": [
        "p1 = input('enter(r->rock, p->paper, s->scissors): ')\n",
        "p2 = input('enter(r->rock, p->paper, s->scissors): ')\n",
        "\n",
        "if p1 == p2:\n",
        "  print('draw')\n",
        "elif p1 == 'r' and p2 == 's':\n",
        "  print('p1 wins')\n",
        "elif p1 == 'r' and p2 == 'p':\n",
        "  print('p2 wins')\n",
        "elif p1 == 's' and p2 == 'r':\n",
        "  print('p2 wins')\n",
        "elif p1 == 's' and p2 == 'p':\n",
        "  print('p1 wins')\n",
        "elif p1 == 'p' and p2 == 's':\n",
        "  print('p2 wins')\n",
        "else:\n",
        "  print ('p1 wins')\n"
      ],
      "metadata": {
        "colab": {
          "base_uri": "https://localhost:8080/"
        },
        "id": "pFc0cnXSsOKo",
        "outputId": "69417c26-f1af-465b-ff7d-48ea9d226c6c"
      },
      "execution_count": null,
      "outputs": [
        {
          "output_type": "stream",
          "name": "stdout",
          "text": [
            "enter(r->rock, p->paper, s->scissors): r\n",
            "enter(r->rock, p->paper, s->scissors): r\n",
            "draw\n"
          ]
        }
      ]
    },
    {
      "cell_type": "code",
      "source": [
        "n1 = float(input('enter first number: '))\n",
        "n2 = float(input('enter second number: '))\n",
        "symbol = input('enter symbol: ')\n",
        "\n",
        "if symbol == '+':\n",
        "  print(n1+n2)\n",
        "elif symbol == '-':\n",
        "  print(n1-n2)\n",
        "elif symbol == '*':\n",
        "  print(n1*n2)\n",
        "elif symbol == '/':\n",
        "  print(n1/n2)\n",
        "else:\n",
        "  print(n1**n2)"
      ],
      "metadata": {
        "colab": {
          "base_uri": "https://localhost:8080/"
        },
        "id": "VBotjnKE5MmF",
        "outputId": "cdc4c13c-71d9-47ed-9e3a-e944af2c1e1c"
      },
      "execution_count": null,
      "outputs": [
        {
          "output_type": "stream",
          "name": "stdout",
          "text": [
            "enter first number: 12\n",
            "enter second number: 3\n",
            "enter symbol: /\n",
            "4.0\n"
          ]
        }
      ]
    },
    {
      "cell_type": "code",
      "source": [
        "import random\n",
        "question = input('Do you want to play rock, paper, scissors?: ')\n",
        "\n",
        "while question == 'yes':\n",
        "  p1 = input('enter(r->rock, p->paper, s->scissors): ')\n",
        "  p2 = random.choice(['r', 's', 'p'])\n",
        "  if p1 == p2:\n",
        "    print('draw')\n",
        "  elif p1 == 'r' and p2 == 's':\n",
        "    print('p1 wins')\n",
        "  elif p1 == 'r' and p2 == 'p':\n",
        "    print('p2 wins')\n",
        "  elif p1 == 's' and p2 == 'r':\n",
        "    print('p2 wins')\n",
        "  elif p1 == 's' and p2 == 'p':\n",
        "    print('p1 wins')\n",
        "  elif p1 == 'p' and p2 == 's':\n",
        "    print('p2 wins')\n",
        "  else:\n",
        "    print('p1 wins')\n",
        "  question = input('Do you want to play rock, paper, scissors?: ')"
      ],
      "metadata": {
        "colab": {
          "base_uri": "https://localhost:8080/"
        },
        "id": "yqM87WXoylo-",
        "outputId": "d4db4514-1014-479f-8a0c-3f8eb60091df"
      },
      "execution_count": null,
      "outputs": [
        {
          "name": "stdout",
          "output_type": "stream",
          "text": [
            "Do you want to play rock, paper, scissors?: yes\n",
            "enter(r->rock, p->paper, s->scissors): p\n",
            "p2 wins\n",
            "Do you want to play rock, paper, scissors?: yes\n",
            "enter(r->rock, p->paper, s->scissors): r\n",
            "p1 wins\n",
            "Do you want to play rock, paper, scissors?: yes\n",
            "enter(r->rock, p->paper, s->scissors): s\n",
            "p1 wins\n",
            "Do you want to play rock, paper, scissors?: no\n"
          ]
        }
      ]
    },
    {
      "cell_type": "code",
      "source": [
        "flat_rate = 5\n",
        "hourly_rate = 2.5\n",
        "\n",
        "for i in range(1,9,1):\n",
        "  total_rate = flat_rate + hourly_rate * i\n",
        "  if total_rate < 10:\n",
        "    total_rate = 10.0\n",
        "  elif total_rate > 20:\n",
        "    total_rate = 20.0\n",
        "  print(i, total_rate)"
      ],
      "metadata": {
        "colab": {
          "base_uri": "https://localhost:8080/"
        },
        "id": "c0Sbr58l86aQ",
        "outputId": "cb57ad1a-98bc-4760-d048-523b0a8da723"
      },
      "execution_count": null,
      "outputs": [
        {
          "output_type": "stream",
          "name": "stdout",
          "text": [
            "1 10.0\n",
            "2 10.0\n",
            "3 12.5\n",
            "4 15.0\n",
            "5 17.5\n",
            "6 20.0\n",
            "7 20.0\n",
            "8 20.0\n"
          ]
        }
      ]
    },
    {
      "cell_type": "code",
      "source": [
        "fixed_cost = 200\n",
        "movie_ticket = 10\n",
        "attendees = 20\n",
        "\n",
        "print('Ad$', 'Profit')\n",
        "for i in range(0,201,25):\n",
        "  add_attendees = 2 * round(i ** 0.5)\n",
        "  profit = (attendees + add_attendees) * movie_ticket - i - fixed_cost\n",
        "  print(i, profit)"
      ],
      "metadata": {
        "colab": {
          "base_uri": "https://localhost:8080/"
        },
        "id": "ZeP8Xz6pDZII",
        "outputId": "afc63380-0de6-4b2a-99c0-4154ab5d81ae"
      },
      "execution_count": null,
      "outputs": [
        {
          "output_type": "stream",
          "name": "stdout",
          "text": [
            "Ad$ Profit\n",
            "0 0\n",
            "25 75\n",
            "50 90\n",
            "75 105\n",
            "100 100\n",
            "125 95\n",
            "150 90\n",
            "175 85\n",
            "200 80\n"
          ]
        }
      ]
    },
    {
      "cell_type": "code",
      "source": [
        "l = []\n",
        "\n",
        "item = int(input('add a number: '))\n",
        "while item != 0:\n",
        "  l.append(item)\n",
        "  item = int(input('add a number: '))\n",
        "\n",
        "print(l)"
      ],
      "metadata": {
        "colab": {
          "base_uri": "https://localhost:8080/"
        },
        "id": "461_sE2bIrdu",
        "outputId": "d3058391-b8c4-4bfa-fa47-6d022f9e05bd"
      },
      "execution_count": null,
      "outputs": [
        {
          "output_type": "stream",
          "name": "stdout",
          "text": [
            "add a number: 1\n",
            "add a number: 2\n",
            "add a number: 3\n",
            "add a number: 0\n",
            "[1, 2, 3]\n"
          ]
        }
      ]
    },
    {
      "cell_type": "code",
      "source": [
        "months = {}\n",
        "\n",
        "names = ['Jan', 'Feb', 'Mar', 'Apr', 'May', 'Jun', 'Jul', 'Aug', 'Sep', 'Oct', 'Nov', 'Dec']\n",
        "numbers = [1,2,3,4,5,6,7,8,9,10,11,12]\n",
        "\n",
        "for i in range (len(numbers)):\n",
        "    months[numbers[i]] = names[i]\n",
        "\n",
        "print(months)"
      ],
      "metadata": {
        "colab": {
          "base_uri": "https://localhost:8080/"
        },
        "id": "7NS6WUvf41pp",
        "outputId": "2658066e-6c93-434f-8814-392a90064a9e"
      },
      "execution_count": 25,
      "outputs": [
        {
          "output_type": "stream",
          "name": "stdout",
          "text": [
            "{1: 'Jan', 2: 'Feb', 3: 'Mar', 4: 'Apr', 5: 'May', 6: 'Jun', 7: 'Jul', 8: 'Aug', 9: 'Sep', 10: 'Oct', 11: 'Nov', 12: 'Dec'}\n"
          ]
        }
      ]
    }
  ]
}