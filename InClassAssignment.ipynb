{
  "nbformat": 4,
  "nbformat_minor": 0,
  "metadata": {
    "colab": {
      "provenance": [],
      "authorship_tag": "ABX9TyN3Jb7AdoFmwJwdI/riL+m/",
      "include_colab_link": true
    },
    "kernelspec": {
      "name": "python3",
      "display_name": "Python 3"
    },
    "language_info": {
      "name": "python"
    }
  },
  "cells": [
    {
      "cell_type": "markdown",
      "metadata": {
        "id": "view-in-github",
        "colab_type": "text"
      },
      "source": [
        "<a href=\"https://colab.research.google.com/github/macianderson/BTE320-In-class-assignments/blob/main/InClassAssignment.ipynb\" target=\"_parent\"><img src=\"https://colab.research.google.com/assets/colab-badge.svg\" alt=\"Open In Colab\"/></a>"
      ]
    },
    {
      "cell_type": "code",
      "execution_count": null,
      "metadata": {
        "colab": {
          "base_uri": "https://localhost:8080/"
        },
        "id": "23vIjjChkH8C",
        "outputId": "e89f4b54-14c2-4e78-8c98-de8ac355db68"
      },
      "outputs": [
        {
          "output_type": "stream",
          "name": "stdout",
          "text": [
            "244.92000000000002\n"
          ]
        }
      ],
      "source": [
        "pi = 3.14\n",
        "h = 10\n",
        "r = 3\n",
        "area = 2 * pi * r * h + 2 * pi * r ** 2\n",
        "print(area)"
      ]
    },
    {
      "cell_type": "code",
      "source": [
        "p1 = input('enter(r->rock, p->paper, s->scissors): ')\n",
        "p2 = input('enter(r->rock, p->paper, s->scissors): ')\n",
        "\n",
        "if p1 == p2:\n",
        "  print('draw')\n",
        "elif p1 == 'r' and p2 == 's':\n",
        "  print('p1 wins')\n",
        "elif p1 == 'r' and p2 == 'p':\n",
        "  print('p2 wins')\n",
        "elif p1 == 's' and p2 == 'r':\n",
        "  print('p2 wins')\n",
        "elif p1 == 's' and p2 == 'p':\n",
        "  print('p1 wins')\n",
        "elif p1 == 'p' and p2 == 's':\n",
        "  print('p2 wins')\n",
        "else:\n",
        "  print ('p1 wins')\n"
      ],
      "metadata": {
        "colab": {
          "base_uri": "https://localhost:8080/"
        },
        "id": "pFc0cnXSsOKo",
        "outputId": "69417c26-f1af-465b-ff7d-48ea9d226c6c"
      },
      "execution_count": null,
      "outputs": [
        {
          "output_type": "stream",
          "name": "stdout",
          "text": [
            "enter(r->rock, p->paper, s->scissors): r\n",
            "enter(r->rock, p->paper, s->scissors): r\n",
            "draw\n"
          ]
        }
      ]
    },
    {
      "cell_type": "code",
      "source": [
        "n1 = float(input('enter first number: '))\n",
        "n2 = float(input('enter second number: '))\n",
        "symbol = input('enter symbol: ')\n",
        "\n",
        "if symbol == '+':\n",
        "  print(n1+n2)\n",
        "elif symbol == '-':\n",
        "  print(n1-n2)\n",
        "elif symbol == '*':\n",
        "  print(n1*n2)\n",
        "elif symbol == '/':\n",
        "  print(n1/n2)\n",
        "else:\n",
        "  print(n1**n2)"
      ],
      "metadata": {
        "colab": {
          "base_uri": "https://localhost:8080/"
        },
        "id": "VBotjnKE5MmF",
        "outputId": "cdc4c13c-71d9-47ed-9e3a-e944af2c1e1c"
      },
      "execution_count": null,
      "outputs": [
        {
          "output_type": "stream",
          "name": "stdout",
          "text": [
            "enter first number: 12\n",
            "enter second number: 3\n",
            "enter symbol: /\n",
            "4.0\n"
          ]
        }
      ]
    },
    {
      "cell_type": "code",
      "source": [
        "import random\n",
        "question = input('Do you want to play rock, paper, scissors?: ')\n",
        "\n",
        "while question == 'yes':\n",
        "  p1 = input('enter(r->rock, p->paper, s->scissors): ')\n",
        "  p2 = random.choice(['r', 's', 'p'])\n",
        "  if p1 == p2:\n",
        "    print('draw')\n",
        "  elif p1 == 'r' and p2 == 's':\n",
        "    print('p1 wins')\n",
        "  elif p1 == 'r' and p2 == 'p':\n",
        "    print('p2 wins')\n",
        "  elif p1 == 's' and p2 == 'r':\n",
        "    print('p2 wins')\n",
        "  elif p1 == 's' and p2 == 'p':\n",
        "    print('p1 wins')\n",
        "  elif p1 == 'p' and p2 == 's':\n",
        "    print('p2 wins')\n",
        "  else:\n",
        "    print('p1 wins')\n",
        "  question = input('Do you want to play rock, paper, scissors?: ')"
      ],
      "metadata": {
        "colab": {
          "base_uri": "https://localhost:8080/"
        },
        "id": "yqM87WXoylo-",
        "outputId": "d4db4514-1014-479f-8a0c-3f8eb60091df"
      },
      "execution_count": null,
      "outputs": [
        {
          "name": "stdout",
          "output_type": "stream",
          "text": [
            "Do you want to play rock, paper, scissors?: yes\n",
            "enter(r->rock, p->paper, s->scissors): p\n",
            "p2 wins\n",
            "Do you want to play rock, paper, scissors?: yes\n",
            "enter(r->rock, p->paper, s->scissors): r\n",
            "p1 wins\n",
            "Do you want to play rock, paper, scissors?: yes\n",
            "enter(r->rock, p->paper, s->scissors): s\n",
            "p1 wins\n",
            "Do you want to play rock, paper, scissors?: no\n"
          ]
        }
      ]
    },
    {
      "cell_type": "code",
      "source": [
        "flat_rate = 5\n",
        "hourly_rate = 2.5\n",
        "\n",
        "for i in range(1,9,1):\n",
        "  total_rate = flat_rate + hourly_rate * i\n",
        "  if total_rate < 10:\n",
        "    total_rate = 10.0\n",
        "  elif total_rate > 20:\n",
        "    total_rate = 20.0\n",
        "  print(i, total_rate)"
      ],
      "metadata": {
        "colab": {
          "base_uri": "https://localhost:8080/"
        },
        "id": "c0Sbr58l86aQ",
        "outputId": "cb57ad1a-98bc-4760-d048-523b0a8da723"
      },
      "execution_count": null,
      "outputs": [
        {
          "output_type": "stream",
          "name": "stdout",
          "text": [
            "1 10.0\n",
            "2 10.0\n",
            "3 12.5\n",
            "4 15.0\n",
            "5 17.5\n",
            "6 20.0\n",
            "7 20.0\n",
            "8 20.0\n"
          ]
        }
      ]
    },
    {
      "cell_type": "code",
      "source": [
        "fixed_cost = 200\n",
        "movie_ticket = 10\n",
        "attendees = 20\n",
        "\n",
        "print('Ad$', 'Profit')\n",
        "for i in range(0,201,25):\n",
        "  add_attendees = 2 * round(i ** 0.5)\n",
        "  profit = (attendees + add_attendees) * movie_ticket - i - fixed_cost\n",
        "  print(i, profit)"
      ],
      "metadata": {
        "colab": {
          "base_uri": "https://localhost:8080/"
        },
        "id": "ZeP8Xz6pDZII",
        "outputId": "afc63380-0de6-4b2a-99c0-4154ab5d81ae"
      },
      "execution_count": null,
      "outputs": [
        {
          "output_type": "stream",
          "name": "stdout",
          "text": [
            "Ad$ Profit\n",
            "0 0\n",
            "25 75\n",
            "50 90\n",
            "75 105\n",
            "100 100\n",
            "125 95\n",
            "150 90\n",
            "175 85\n",
            "200 80\n"
          ]
        }
      ]
    },
    {
      "cell_type": "code",
      "source": [
        "l = []\n",
        "\n",
        "item = int(input('add a number: '))\n",
        "while item != 0:\n",
        "  l.append(item)\n",
        "  item = int(input('add a number: '))\n",
        "\n",
        "print(l)"
      ],
      "metadata": {
        "colab": {
          "base_uri": "https://localhost:8080/"
        },
        "id": "461_sE2bIrdu",
        "outputId": "d3058391-b8c4-4bfa-fa47-6d022f9e05bd"
      },
      "execution_count": null,
      "outputs": [
        {
          "output_type": "stream",
          "name": "stdout",
          "text": [
            "add a number: 1\n",
            "add a number: 2\n",
            "add a number: 3\n",
            "add a number: 0\n",
            "[1, 2, 3]\n"
          ]
        }
      ]
    },
    {
      "cell_type": "code",
      "source": [
        "months = {}\n",
        "\n",
        "names = ['Jan', 'Feb', 'Mar', 'Apr', 'May', 'Jun', 'Jul', 'Aug', 'Sep', 'Oct', 'Nov', 'Dec']\n",
        "numbers = [1,2,3,4,5,6,7,8,9,10,11,12]\n",
        "\n",
        "for i in range (len(numbers)):\n",
        "    months[numbers[i]] = names[i]\n",
        "\n",
        "print(months)"
      ],
      "metadata": {
        "colab": {
          "base_uri": "https://localhost:8080/"
        },
        "id": "7NS6WUvf41pp",
        "outputId": "2658066e-6c93-434f-8814-392a90064a9e"
      },
      "execution_count": null,
      "outputs": [
        {
          "output_type": "stream",
          "name": "stdout",
          "text": [
            "{1: 'Jan', 2: 'Feb', 3: 'Mar', 4: 'Apr', 5: 'May', 6: 'Jun', 7: 'Jul', 8: 'Aug', 9: 'Sep', 10: 'Oct', 11: 'Nov', 12: 'Dec'}\n"
          ]
        }
      ]
    },
    {
      "cell_type": "code",
      "source": [
        "total_cost = float(input(\"Enter the cost of your dream home: \"))\n",
        "annual_salary = float(input(\"Enter starting annual salary: \"))\n",
        "portion_saved = float(input(\"Enter portion of salary to be saved: \"))\n",
        "portion_down_payment = 0.25\n",
        "r = 0.04\n",
        "down_payment = total_cost * portion_down_payment\n",
        "\n",
        "current_savings = 0\n",
        "months = 0\n",
        "while current_savings <= down_payment:\n",
        "  current_savings += annual_salary/12 * portion_saved\n",
        "  current_savings += current_savings * r/12\n",
        "  months += 1\n",
        "\n",
        "print(f\"Number of months: {months}\")"
      ],
      "metadata": {
        "colab": {
          "base_uri": "https://localhost:8080/"
        },
        "id": "fWNxfE48Wf1b",
        "outputId": "1add7eae-3f68-4576-b3f0-8f861ae9d4fc"
      },
      "execution_count": 7,
      "outputs": [
        {
          "output_type": "stream",
          "name": "stdout",
          "text": [
            "Enter the cost of your dream home: 1000000\n",
            "Enter starting annual salary: 120000\n",
            "Enter portion of salary to be saved: 0.1\n",
            "Number of months: 182\n"
          ]
        }
      ]
    },
    {
      "cell_type": "code",
      "source": [
        "total_cost = float(input(\"Enter the cost of your dream home: \"))\n",
        "annual_salary = float(input(\"Enter starting annual salary: \"))\n",
        "portion_saved = float(input(\"Enter portion of salary to be saved: \"))\n",
        "semi_annual_raise = float(input(\"Enter semi-annual raise as a decimal: \"))\n",
        "portion_down_payment = 0.25\n",
        "r = 0.04\n",
        "down_payment = total_cost * portion_down_payment\n",
        "\n",
        "current_savings = 0\n",
        "months = 0\n",
        "while current_savings <= down_payment:\n",
        "  current_savings += annual_salary/12 * portion_saved\n",
        "  current_savings += current_savings * r/12\n",
        "  months += 1\n",
        "  if months % 6 == 0:\n",
        "    annual_salary += annual_salary * semi_annual_raise\n",
        "  else:\n",
        "    annual_salary = annual_salary\n",
        "\n",
        "print(f\"Number of months: {months}\")"
      ],
      "metadata": {
        "colab": {
          "base_uri": "https://localhost:8080/"
        },
        "id": "rldTUuRKbYaL",
        "outputId": "e6d00ece-9423-4ded-c839-5fced4307ee1"
      },
      "execution_count": 10,
      "outputs": [
        {
          "output_type": "stream",
          "name": "stdout",
          "text": [
            "Enter the cost of your dream home: 500000\n",
            "Enter starting annual salary: 120000\n",
            "Enter portion of salary to be saved: 0.05\n",
            "Enter semi-annual raise as a decimal: 0.03\n",
            "Number of months: 142\n"
          ]
        }
      ]
    },
    {
      "cell_type": "code",
      "source": [
        "def range_check(num, low, high):\n",
        "  if num >= low and num <= high:\n",
        "    return True\n",
        "  else:\n",
        "    return False"
      ],
      "metadata": {
        "id": "AqBCCYV-M7dQ"
      },
      "execution_count": null,
      "outputs": []
    },
    {
      "cell_type": "code",
      "source": [
        "print(range_check(2,1,3))"
      ],
      "metadata": {
        "colab": {
          "base_uri": "https://localhost:8080/"
        },
        "id": "PiI8NschSd9y",
        "outputId": "1c746d6b-33c0-4d7d-b965-b0409f0a51f3"
      },
      "execution_count": null,
      "outputs": [
        {
          "output_type": "stream",
          "name": "stdout",
          "text": [
            "True\n"
          ]
        }
      ]
    },
    {
      "cell_type": "code",
      "source": [
        "res = range_check(num = 2, low = 1, high = 3)\n",
        "print(res)"
      ],
      "metadata": {
        "colab": {
          "base_uri": "https://localhost:8080/"
        },
        "id": "GBD-KiaATRaE",
        "outputId": "21f54aca-1a6b-4393-ed06-845ca801d019"
      },
      "execution_count": null,
      "outputs": [
        {
          "output_type": "stream",
          "name": "stdout",
          "text": [
            "True\n"
          ]
        }
      ]
    },
    {
      "cell_type": "code",
      "source": [
        "def calcFee(Hours):\n",
        "  total = base + extra * hours\n",
        "  return total\n",
        "\n",
        "base = 5\n",
        "extra = 2.5\n",
        "hours = float(input('enter number of hours: '))\n",
        "\n",
        "total = calcFee(hours)\n",
        "print(total)"
      ],
      "metadata": {
        "colab": {
          "base_uri": "https://localhost:8080/"
        },
        "id": "XqUr7kq29d3R",
        "outputId": "badaf6d3-73ff-447b-a8fb-4ca581d6b376"
      },
      "execution_count": null,
      "outputs": [
        {
          "output_type": "stream",
          "name": "stdout",
          "text": [
            "enter number of hours: 4\n",
            "15.0\n"
          ]
        }
      ]
    },
    {
      "cell_type": "code",
      "source": [
        "def calcFee(Hours, decimals = 2):\n",
        "  total = base + extra * hours\n",
        "  total = round(total, decimals)\n",
        "  return total\n",
        "\n",
        "def displayFee(total):\n",
        "  print(\"$\", total)\n",
        "\n",
        "base = 5\n",
        "extra = 2.5\n",
        "hours = float(input('enter number of hours: '))\n",
        "\n",
        "displayFee(calcFee(hours))"
      ],
      "metadata": {
        "colab": {
          "base_uri": "https://localhost:8080/"
        },
        "id": "oLFUvwLBCAKF",
        "outputId": "1be61ccc-ad1b-416f-c70b-711593a239fc"
      },
      "execution_count": null,
      "outputs": [
        {
          "output_type": "stream",
          "name": "stdout",
          "text": [
            "enter number of hours: 4\n",
            "$ 15.0\n"
          ]
        }
      ]
    },
    {
      "cell_type": "code",
      "source": [
        "def res(s):\n",
        "  if len(s) == 1:\n",
        "    return s\n",
        "  else:\n",
        "    return res(s[1:]) + s[0]\n",
        "\n",
        "s = \"Hello\"\n",
        "res(s)"
      ],
      "metadata": {
        "colab": {
          "base_uri": "https://localhost:8080/",
          "height": 35
        },
        "id": "9AriGonvHQWY",
        "outputId": "4a68225e-0cef-45d3-ac9c-d22824234e15"
      },
      "execution_count": null,
      "outputs": [
        {
          "output_type": "execute_result",
          "data": {
            "text/plain": [
              "'olleH'"
            ],
            "application/vnd.google.colaboratory.intrinsic+json": {
              "type": "string"
            }
          },
          "metadata": {},
          "execution_count": 22
        }
      ]
    },
    {
      "cell_type": "code",
      "source": [
        "def wAvg(L, w):\n",
        "  try:\n",
        "    res = []\n",
        "    for i in range(len(L)):\n",
        "      res.append(L[i]*w[i])\n",
        "    return sum(res)/sum(w)\n",
        "  except ZeroDivisionError:\n",
        "    return []\n",
        "  except TypeError:\n",
        "    return []\n",
        "  except:\n",
        "    return float('nan')\n",
        "\n",
        "l = [1,2,3]\n",
        "w = [0.1,0.3,0.4]\n",
        "\n",
        "wAvg(l,w)"
      ],
      "metadata": {
        "colab": {
          "base_uri": "https://localhost:8080/"
        },
        "id": "GDDMf9iIf86E",
        "outputId": "beb2ade5-304f-48ce-800c-c1b5ef7e551b"
      },
      "execution_count": null,
      "outputs": [
        {
          "output_type": "execute_result",
          "data": {
            "text/plain": [
              "2.375"
            ]
          },
          "metadata": {},
          "execution_count": 9
        }
      ]
    },
    {
      "cell_type": "code",
      "source": [
        "class Student:\n",
        "  def __init__(self, name, number):\n",
        "    self.name = name\n",
        "    self.number = number\n",
        "\n",
        "  def __repr__(self):\n",
        "    return f'Name: {self.name}'"
      ],
      "metadata": {
        "id": "nDuDjIEZYfqu"
      },
      "execution_count": null,
      "outputs": []
    },
    {
      "cell_type": "code",
      "source": [
        "s1 = Student('James Bond', '007')\n",
        "s2 = Student('Clark Kent', '333')\n",
        "\n",
        "s1.name"
      ],
      "metadata": {
        "colab": {
          "base_uri": "https://localhost:8080/",
          "height": 35
        },
        "id": "4iwvqSqKaW6j",
        "outputId": "f0470fc6-0977-4470-b312-fad90e691876"
      },
      "execution_count": null,
      "outputs": [
        {
          "output_type": "execute_result",
          "data": {
            "text/plain": [
              "'James Bond'"
            ],
            "application/vnd.google.colaboratory.intrinsic+json": {
              "type": "string"
            }
          },
          "metadata": {},
          "execution_count": 4
        }
      ]
    }
  ]
}