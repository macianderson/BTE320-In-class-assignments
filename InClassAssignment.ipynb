{
  "nbformat": 4,
  "nbformat_minor": 0,
  "metadata": {
    "colab": {
      "provenance": [],
      "authorship_tag": "ABX9TyNlwhoBCT6Gi4r1s/gb6cfv",
      "include_colab_link": true
    },
    "kernelspec": {
      "name": "python3",
      "display_name": "Python 3"
    },
    "language_info": {
      "name": "python"
    }
  },
  "cells": [
    {
      "cell_type": "markdown",
      "metadata": {
        "id": "view-in-github",
        "colab_type": "text"
      },
      "source": [
        "<a href=\"https://colab.research.google.com/github/macianderson/BTE320-In-class-assignments/blob/main/InClassAssignment.ipynb\" target=\"_parent\"><img src=\"https://colab.research.google.com/assets/colab-badge.svg\" alt=\"Open In Colab\"/></a>"
      ]
    },
    {
      "cell_type": "code",
      "execution_count": null,
      "metadata": {
        "colab": {
          "base_uri": "https://localhost:8080/"
        },
        "id": "23vIjjChkH8C",
        "outputId": "e89f4b54-14c2-4e78-8c98-de8ac355db68"
      },
      "outputs": [
        {
          "output_type": "stream",
          "name": "stdout",
          "text": [
            "244.92000000000002\n"
          ]
        }
      ],
      "source": [
        "pi = 3.14\n",
        "h = 10\n",
        "r = 3\n",
        "area = 2 * pi * r * h + 2 * pi * r ** 2\n",
        "print(area)"
      ]
    },
    {
      "cell_type": "code",
      "source": [
        "p1 = input('enter(r->rock, p->paper, s->scissors): ')\n",
        "p2 = input('enter(r->rock, p->paper, s->scissors): ')\n",
        "\n",
        "if p1 == p2:\n",
        "  print('draw')\n",
        "elif p1 == 'r' and p2 == 's':\n",
        "  print('p1 wins')\n",
        "elif p1 == 'r' and p2 == 'p':\n",
        "  print('p2 wins')\n",
        "elif p1 == 's' and p2 == 'r':\n",
        "  print('p2 wins')\n",
        "elif p1 == 's' and p2 == 'p':\n",
        "  print('p1 wins')\n",
        "elif p1 == 'p' and p2 == 's':\n",
        "  print('p2 wins')\n",
        "else:\n",
        "  print ('p1 wins')\n"
      ],
      "metadata": {
        "colab": {
          "base_uri": "https://localhost:8080/"
        },
        "id": "pFc0cnXSsOKo",
        "outputId": "69417c26-f1af-465b-ff7d-48ea9d226c6c"
      },
      "execution_count": null,
      "outputs": [
        {
          "output_type": "stream",
          "name": "stdout",
          "text": [
            "enter(r->rock, p->paper, s->scissors): r\n",
            "enter(r->rock, p->paper, s->scissors): r\n",
            "draw\n"
          ]
        }
      ]
    },
    {
      "cell_type": "code",
      "source": [
        "n1 = float(input('enter first number: '))\n",
        "n2 = float(input('enter second number: '))\n",
        "symbol = input('enter symbol: ')\n",
        "\n",
        "if symbol == '+':\n",
        "  print(n1+n2)\n",
        "elif symbol == '-':\n",
        "  print(n1-n2)\n",
        "elif symbol == '*':\n",
        "  print(n1*n2)\n",
        "elif symbol == '/':\n",
        "  print(n1/n2)\n",
        "else:\n",
        "  print(n1**n2)"
      ],
      "metadata": {
        "colab": {
          "base_uri": "https://localhost:8080/"
        },
        "id": "VBotjnKE5MmF",
        "outputId": "cdc4c13c-71d9-47ed-9e3a-e944af2c1e1c"
      },
      "execution_count": null,
      "outputs": [
        {
          "output_type": "stream",
          "name": "stdout",
          "text": [
            "enter first number: 12\n",
            "enter second number: 3\n",
            "enter symbol: /\n",
            "4.0\n"
          ]
        }
      ]
    },
    {
      "cell_type": "code",
      "source": [
        "import random\n",
        "question = input('Do you want to play rock, paper, scissors?: ')\n",
        "\n",
        "while question == 'yes':\n",
        "  p1 = input('enter(r->rock, p->paper, s->scissors): ')\n",
        "  p2 = random.choice(['r', 's', 'p'])\n",
        "  if p1 == p2:\n",
        "    print('draw')\n",
        "  elif p1 == 'r' and p2 == 's':\n",
        "    print('p1 wins')\n",
        "  elif p1 == 'r' and p2 == 'p':\n",
        "    print('p2 wins')\n",
        "  elif p1 == 's' and p2 == 'r':\n",
        "    print('p2 wins')\n",
        "  elif p1 == 's' and p2 == 'p':\n",
        "    print('p1 wins')\n",
        "  elif p1 == 'p' and p2 == 's':\n",
        "    print('p2 wins')\n",
        "  else:\n",
        "    print('p1 wins')\n",
        "  question = input('Do you want to play rock, paper, scissors?: ')"
      ],
      "metadata": {
        "colab": {
          "base_uri": "https://localhost:8080/"
        },
        "id": "yqM87WXoylo-",
        "outputId": "d4db4514-1014-479f-8a0c-3f8eb60091df"
      },
      "execution_count": 4,
      "outputs": [
        {
          "name": "stdout",
          "output_type": "stream",
          "text": [
            "Do you want to play rock, paper, scissors?: yes\n",
            "enter(r->rock, p->paper, s->scissors): p\n",
            "p2 wins\n",
            "Do you want to play rock, paper, scissors?: yes\n",
            "enter(r->rock, p->paper, s->scissors): r\n",
            "p1 wins\n",
            "Do you want to play rock, paper, scissors?: yes\n",
            "enter(r->rock, p->paper, s->scissors): s\n",
            "p1 wins\n",
            "Do you want to play rock, paper, scissors?: no\n"
          ]
        }
      ]
    }
  ]
}